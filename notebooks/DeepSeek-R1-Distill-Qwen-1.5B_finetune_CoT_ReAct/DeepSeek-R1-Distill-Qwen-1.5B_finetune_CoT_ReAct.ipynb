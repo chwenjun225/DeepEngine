{
 "cells": [
  {
   "cell_type": "code",
   "execution_count": 1,
   "metadata": {},
   "outputs": [],
   "source": [
    "from transformers import AutoTokenizer, AutoModel\n",
    "from datasets import load_dataset\n",
    "\n",
    "path_model = \"/home/chwenjun225/Projects/Foxer/models/DeepSeek-R1-Distill-Qwen-1.5B\"\n",
    "path_dataset = \"/home/chwenjun225/Projects/Foxer/datasets/cot\""
   ]
  },
  {
   "cell_type": "code",
   "execution_count": 2,
   "metadata": {},
   "outputs": [],
   "source": [
    "tokenizer = AutoTokenizer.from_pretrained(path_model)\n",
    "model = AutoModel.from_pretrained(path_model)"
   ]
  },
  {
   "cell_type": "code",
   "execution_count": 9,
   "metadata": {},
   "outputs": [
    {
     "data": {
      "text/plain": [
       "{'prompt': 'How can teachers develop critical thinking skills in their students for the 21st century? Provide a detailed explanation.',\n",
       " 'response': \"<thinking>\\n<initial_analysis>\\nTask: Explain how teachers can develop critical thinking skills in students for the 21st century\\nApproach: Synthesize information from the given text and expand on it\\nComplexity: Medium\\n</initial_analysis>\\n<conscious_thought>\\nI need to provide a comprehensive answer that covers multiple aspects of developing critical thinking skills, while also considering the 21st-century context.\\n</conscious_thought>\\n<step_by_step>\\n1. Understand the importance of critical thinking:\\n   - Urgent need in the digitally focused world\\n   - Essential for navigating information overload\\n   - Foundational skill that supports overall learning\\n\\n2. Identify key strategies from the text:\\n   - Access resources on teaching critical thinking\\n   - Utilize the 25 ways mentioned in the Mentoring Minds graphic\\n\\n3. Expand on practical approaches:\\n   - Encourage questioning and inquiry\\n   - Promote problem-solving activities\\n   - Foster analytical thinking through discussions\\n   - Teach information literacy and source evaluation\\n   - Incorporate technology and digital tools effectively\\n\\n4. Consider the 21st-century context:\\n   - Address digital literacy\\n   - Focus on adaptability and flexibility\\n   - Emphasize collaborative learning\\n</step_by_step>\\n<reflection>\\nI've covered the main points from the text and expanded on them. However, I should also emphasize the importance of creating a classroom environment that supports critical thinking.\\n</reflection>\\n<conscious_thought>\\nI'll add a point about creating a supportive classroom culture for critical thinking.\\n</conscious_thought>\\n</thinking>\\n<output>\\nTo develop critical thinking skills in students for the 21st century, teachers can employ several strategies:\\n\\n1. Recognize the importance: In our digitally-focused world with abundant information, critical thinking is crucial. It's the foundation for all other skills and enhances overall learning.\\n\\n2. Utilize available resources: Teachers should access specialized resources, like those provided by Educational Technology and Mobile Learning, to integrate critical thinking into their teaching.\\n\\n3. Implement diverse strategies: The Mentoring Minds graphic suggests 25 ways to develop critical thinkers. These likely include encouraging questioning, promoting problem-solving, and fostering analytical thinking through discussions.\\n\\n4. Enhance information literacy: Teach students how to evaluate sources, especially in the digital realm, to navigate the information surplus effectively.\\n\\n5. Incorporate technology: Use digital tools to support critical thinking exercises and help students apply these skills in technological contexts.\\n\\n6. Foster a supportive environment: Create a classroom culture that values questioning, analysis, and reasoned debate. Encourage students to express and defend their ideas respectfully.\\n\\n7. Focus on 21st-century skills: Emphasize adaptability, collaboration, and digital literacy alongside critical thinking to prepare students for modern challenges.\\n\\n8. Provide real-world applications: Connect critical thinking exercises to current events and situations students might encounter in their lives.\\n\\nBy implementing these strategies, teachers can help students develop the critical thinking skills necessary to thrive in the 21st century's complex and rapidly changing landscape.\\n</output>\",\n",
       " 'source': 'glaive',\n",
       " 'category': None,\n",
       " 'category_score': None,\n",
       " 'topic': None,\n",
       " 'topic_score': None}"
      ]
     },
     "execution_count": 9,
     "metadata": {},
     "output_type": "execute_result"
    }
   ],
   "source": [
    "dataset = load_dataset(path_dataset)\n",
    "dataset[\"train\"][100]"
   ]
  },
  {
   "cell_type": "code",
   "execution_count": null,
   "metadata": {},
   "outputs": [],
   "source": [
    "def tokenize_function(examples):\n",
    "\treturn tokenizer(examples[\"text\"], padding=\"max_length\", truncation=True)\n",
    "\n",
    "tokenized_datasets = load_dataset.map(tokenize_function, batched=True)\n",
    "\n"
   ]
  },
  {
   "cell_type": "code",
   "execution_count": null,
   "metadata": {},
   "outputs": [],
   "source": [
    "def formatting_prompts_func(examples, train_prompt_style, eos_token):\n",
    "\tinputs = examples[\"Question\"]\n",
    "\tcots = examples[\"Complex_CoT\"]\n",
    "\toutputs = examples[\"Response\"]\n",
    "\ttexts = []\n",
    "\tfor input, cot, output in zip(inputs, cots, outputs):\n",
    "\t\ttext = train_prompt_style.format(input, cot, output) + eos_token\n",
    "\t\ttexts.append(text)\n",
    "\treturn {\n",
    "\t\t\"text\": texts,\n",
    "\t}"
   ]
  },
  {
   "cell_type": "code",
   "execution_count": null,
   "metadata": {},
   "outputs": [],
   "source": []
  },
  {
   "cell_type": "code",
   "execution_count": null,
   "metadata": {},
   "outputs": [],
   "source": [
    "train_prompt_style = \"\"\"Below is an instruction that describes a task, paired with an input that provides further context. \n",
    "Write a response that appropriately completes the request. \n",
    "Before answering, think carefully about the question and create a step-by-step chain of thoughts to ensure a logical and accurate response.\n",
    "\n",
    "### Instruction:\n",
    "You are a medical expert with advanced knowledge in clinical reasoning, diagnostics, and treatment planning. \n",
    "Please answer the following medical question. \n",
    "\n",
    "### Question:\n",
    "{}\n",
    "\n",
    "### Response:\n",
    "<think>\n",
    "{}\n",
    "</think>\n",
    "{}\"\"\"\n",
    "\n",
    "eos_token = tokenizer.eos_token  # Must add EOS_TOKEN"
   ]
  },
  {
   "cell_type": "code",
   "execution_count": null,
   "metadata": {},
   "outputs": [],
   "source": []
  },
  {
   "cell_type": "code",
   "execution_count": null,
   "metadata": {},
   "outputs": [],
   "source": []
  },
  {
   "cell_type": "code",
   "execution_count": null,
   "metadata": {},
   "outputs": [],
   "source": []
  },
  {
   "cell_type": "code",
   "execution_count": null,
   "metadata": {},
   "outputs": [],
   "source": []
  },
  {
   "cell_type": "code",
   "execution_count": null,
   "metadata": {},
   "outputs": [],
   "source": []
  },
  {
   "cell_type": "code",
   "execution_count": null,
   "metadata": {},
   "outputs": [],
   "source": []
  },
  {
   "cell_type": "code",
   "execution_count": null,
   "metadata": {},
   "outputs": [],
   "source": []
  },
  {
   "cell_type": "code",
   "execution_count": null,
   "metadata": {},
   "outputs": [],
   "source": []
  },
  {
   "cell_type": "code",
   "execution_count": null,
   "metadata": {},
   "outputs": [],
   "source": []
  },
  {
   "cell_type": "code",
   "execution_count": null,
   "metadata": {},
   "outputs": [],
   "source": []
  },
  {
   "cell_type": "code",
   "execution_count": null,
   "metadata": {},
   "outputs": [],
   "source": []
  },
  {
   "cell_type": "code",
   "execution_count": null,
   "metadata": {},
   "outputs": [],
   "source": []
  },
  {
   "cell_type": "code",
   "execution_count": null,
   "metadata": {},
   "outputs": [],
   "source": []
  },
  {
   "cell_type": "code",
   "execution_count": null,
   "metadata": {},
   "outputs": [],
   "source": []
  }
 ],
 "metadata": {
  "kernelspec": {
   "display_name": "Foxer_env",
   "language": "python",
   "name": "python3"
  },
  "language_info": {
   "codemirror_mode": {
    "name": "ipython",
    "version": 3
   },
   "file_extension": ".py",
   "mimetype": "text/x-python",
   "name": "python",
   "nbconvert_exporter": "python",
   "pygments_lexer": "ipython3",
   "version": "3.11.11"
  }
 },
 "nbformat": 4,
 "nbformat_minor": 2
}
