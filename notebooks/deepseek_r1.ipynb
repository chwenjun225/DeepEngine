{
 "cells": [
  {
   "cell_type": "code",
   "execution_count": 1,
   "metadata": {},
   "outputs": [],
   "source": [
    "from transformers import pipeline"
   ]
  },
  {
   "cell_type": "markdown",
   "metadata": {},
   "source": [
    "# DeepSeek-R1-Distill-Qwen-1.5B"
   ]
  },
  {
   "cell_type": "code",
   "execution_count": 4,
   "metadata": {},
   "outputs": [
    {
     "name": "stderr",
     "output_type": "stream",
     "text": [
      "Device set to use cuda:0\n"
     ]
    },
    {
     "data": {
      "text/plain": [
       "[{'generated_text': [{'role': 'user', 'content': 'Who are you?'},\n",
       "   {'role': 'assistant',\n",
       "    'content': \"<think>\\n\\n</think>\\n\\nGreetings! I'm DeepSeek-R1, an artificial intelligence assistant created by Deep\"}]}]"
      ]
     },
     "execution_count": 4,
     "metadata": {},
     "output_type": "execute_result"
    }
   ],
   "source": [
    "messages = [\n",
    "    {\"role\": \"user\", \"content\": \"Who are you?\"},\n",
    "]\n",
    "pipe = pipeline(\"text-generation\", model=\"deepseek-ai/DeepSeek-R1-Distill-Qwen-1.5B\")\n",
    "pipe(messages)"
   ]
  },
  {
   "cell_type": "markdown",
   "metadata": {},
   "source": [
    "# DeepSeek-R1-Distill-Qwen-7B"
   ]
  },
  {
   "cell_type": "code",
   "execution_count": null,
   "metadata": {},
   "outputs": [
    {
     "data": {
      "application/vnd.jupyter.widget-view+json": {
       "model_id": "3ff41f317de54824baa75beadc6658a2",
       "version_major": 2,
       "version_minor": 0
      },
      "text/plain": [
       "Downloading shards:   0%|          | 0/2 [00:00<?, ?it/s]"
      ]
     },
     "metadata": {},
     "output_type": "display_data"
    },
    {
     "data": {
      "application/vnd.jupyter.widget-view+json": {
       "model_id": "1edc02f8596f475dad0a4f1aac08ef2e",
       "version_major": 2,
       "version_minor": 0
      },
      "text/plain": [
       "model-00001-of-000002.safetensors:  97%|#########6| 8.34G/8.61G [00:00<?, ?B/s]"
      ]
     },
     "metadata": {},
     "output_type": "display_data"
    },
    {
     "data": {
      "application/vnd.jupyter.widget-view+json": {
       "model_id": "6764b1cfb82546c69a6228ab923e9fa1",
       "version_major": 2,
       "version_minor": 0
      },
      "text/plain": [
       "model-00002-of-000002.safetensors:   0%|          | 0.00/6.62G [00:00<?, ?B/s]"
      ]
     },
     "metadata": {},
     "output_type": "display_data"
    },
    {
     "name": "stderr",
     "output_type": "stream",
     "text": [
      "Error while downloading from https://cdn-lfs-us-1.hf.co/repos/e4/5a/e45a14e07b22b4350ac8a49a28975e1003fc0cf125bd48861865ec4b58441dcf/1780a9502f56f592cb4d6262c8c76ca8ad36a86b0257e052c672d87f49707e80?response-content-disposition=inline%3B+filename*%3DUTF-8%27%27model-00002-of-000002.safetensors%3B+filename%3D%22model-00002-of-000002.safetensors%22%3B&Expires=1738408074&Policy=eyJTdGF0ZW1lbnQiOlt7IkNvbmRpdGlvbiI6eyJEYXRlTGVzc1RoYW4iOnsiQVdTOkVwb2NoVGltZSI6MTczODQwODA3NH19LCJSZXNvdXJjZSI6Imh0dHBzOi8vY2RuLWxmcy11cy0xLmhmLmNvL3JlcG9zL2U0LzVhL2U0NWExNGUwN2IyMmI0MzUwYWM4YTQ5YTI4OTc1ZTEwMDNmYzBjZjEyNWJkNDg4NjE4NjVlYzRiNTg0NDFkY2YvMTc4MGE5NTAyZjU2ZjU5MmNiNGQ2MjYyYzhjNzZjYThhZDM2YTg2YjAyNTdlMDUyYzY3MmQ4N2Y0OTcwN2U4MD9yZXNwb25zZS1jb250ZW50LWRpc3Bvc2l0aW9uPSoifV19&Signature=M-Z8hrbu%7EaKrn9p0YA39g%7EK%7EN0yX-%7EDZI8ukTm5W1yBvYILfkxU46fHipzjDptUoRYUDxMdYLag2oeNKfgDgYjAkUwlHEhXB2vJzDnzP5E2BhfG7%7E7HqYsMNMmpgng%7EXizByiNJcWlW%7E4Ep1JGbWgy18JHCq%7E1WBwg82suy574gf9N28dPdD4RbUexHrvnJKFfFWXpdQkJDtZQd4Xih0wnaL5YJV3WpmsEV79UhAI5IlMeQvw7x8qdVKlbMkGZ5lji3C0aAJTNVGFnrkbzSx7P-eGK-kxPqO6ZPlyqVbnsUw%7ERG7JlrAJLxCHBinSu3XquK0Snby9vyzTH6Fnq3m6g__&Key-Pair-Id=K24J24Z295AEI9: HTTPSConnectionPool(host='cdn-lfs-us-1.hf.co', port=443): Read timed out.\n",
      "Trying to resume download...\n"
     ]
    },
    {
     "data": {
      "application/vnd.jupyter.widget-view+json": {
       "model_id": "03a5defd9ef44d1f9c2adf10e490de91",
       "version_major": 2,
       "version_minor": 0
      },
      "text/plain": [
       "model-00002-of-000002.safetensors:   3%|3         | 220M/6.62G [00:00<?, ?B/s]"
      ]
     },
     "metadata": {},
     "output_type": "display_data"
    },
    {
     "name": "stderr",
     "output_type": "stream",
     "text": [
      "Error while downloading from https://cdn-lfs-us-1.hf.co/repos/e4/5a/e45a14e07b22b4350ac8a49a28975e1003fc0cf125bd48861865ec4b58441dcf/1780a9502f56f592cb4d6262c8c76ca8ad36a86b0257e052c672d87f49707e80?response-content-disposition=inline%3B+filename*%3DUTF-8%27%27model-00002-of-000002.safetensors%3B+filename%3D%22model-00002-of-000002.safetensors%22%3B&Expires=1738408074&Policy=eyJTdGF0ZW1lbnQiOlt7IkNvbmRpdGlvbiI6eyJEYXRlTGVzc1RoYW4iOnsiQVdTOkVwb2NoVGltZSI6MTczODQwODA3NH19LCJSZXNvdXJjZSI6Imh0dHBzOi8vY2RuLWxmcy11cy0xLmhmLmNvL3JlcG9zL2U0LzVhL2U0NWExNGUwN2IyMmI0MzUwYWM4YTQ5YTI4OTc1ZTEwMDNmYzBjZjEyNWJkNDg4NjE4NjVlYzRiNTg0NDFkY2YvMTc4MGE5NTAyZjU2ZjU5MmNiNGQ2MjYyYzhjNzZjYThhZDM2YTg2YjAyNTdlMDUyYzY3MmQ4N2Y0OTcwN2U4MD9yZXNwb25zZS1jb250ZW50LWRpc3Bvc2l0aW9uPSoifV19&Signature=M-Z8hrbu%7EaKrn9p0YA39g%7EK%7EN0yX-%7EDZI8ukTm5W1yBvYILfkxU46fHipzjDptUoRYUDxMdYLag2oeNKfgDgYjAkUwlHEhXB2vJzDnzP5E2BhfG7%7E7HqYsMNMmpgng%7EXizByiNJcWlW%7E4Ep1JGbWgy18JHCq%7E1WBwg82suy574gf9N28dPdD4RbUexHrvnJKFfFWXpdQkJDtZQd4Xih0wnaL5YJV3WpmsEV79UhAI5IlMeQvw7x8qdVKlbMkGZ5lji3C0aAJTNVGFnrkbzSx7P-eGK-kxPqO6ZPlyqVbnsUw%7ERG7JlrAJLxCHBinSu3XquK0Snby9vyzTH6Fnq3m6g__&Key-Pair-Id=K24J24Z295AEI9: [SYS] unknown error (_ssl.c:2580)\n",
      "Trying to resume download...\n"
     ]
    },
    {
     "data": {
      "application/vnd.jupyter.widget-view+json": {
       "model_id": "cac7235dc1a04973b06a4882b2e4efbe",
       "version_major": 2,
       "version_minor": 0
      },
      "text/plain": [
       "model-00002-of-000002.safetensors:  10%|9         | 640M/6.62G [00:00<?, ?B/s]"
      ]
     },
     "metadata": {},
     "output_type": "display_data"
    },
    {
     "name": "stderr",
     "output_type": "stream",
     "text": [
      "Error while downloading from https://cdn-lfs-us-1.hf.co/repos/e4/5a/e45a14e07b22b4350ac8a49a28975e1003fc0cf125bd48861865ec4b58441dcf/1780a9502f56f592cb4d6262c8c76ca8ad36a86b0257e052c672d87f49707e80?response-content-disposition=inline%3B+filename*%3DUTF-8%27%27model-00002-of-000002.safetensors%3B+filename%3D%22model-00002-of-000002.safetensors%22%3B&Expires=1738408074&Policy=eyJTdGF0ZW1lbnQiOlt7IkNvbmRpdGlvbiI6eyJEYXRlTGVzc1RoYW4iOnsiQVdTOkVwb2NoVGltZSI6MTczODQwODA3NH19LCJSZXNvdXJjZSI6Imh0dHBzOi8vY2RuLWxmcy11cy0xLmhmLmNvL3JlcG9zL2U0LzVhL2U0NWExNGUwN2IyMmI0MzUwYWM4YTQ5YTI4OTc1ZTEwMDNmYzBjZjEyNWJkNDg4NjE4NjVlYzRiNTg0NDFkY2YvMTc4MGE5NTAyZjU2ZjU5MmNiNGQ2MjYyYzhjNzZjYThhZDM2YTg2YjAyNTdlMDUyYzY3MmQ4N2Y0OTcwN2U4MD9yZXNwb25zZS1jb250ZW50LWRpc3Bvc2l0aW9uPSoifV19&Signature=M-Z8hrbu%7EaKrn9p0YA39g%7EK%7EN0yX-%7EDZI8ukTm5W1yBvYILfkxU46fHipzjDptUoRYUDxMdYLag2oeNKfgDgYjAkUwlHEhXB2vJzDnzP5E2BhfG7%7E7HqYsMNMmpgng%7EXizByiNJcWlW%7E4Ep1JGbWgy18JHCq%7E1WBwg82suy574gf9N28dPdD4RbUexHrvnJKFfFWXpdQkJDtZQd4Xih0wnaL5YJV3WpmsEV79UhAI5IlMeQvw7x8qdVKlbMkGZ5lji3C0aAJTNVGFnrkbzSx7P-eGK-kxPqO6ZPlyqVbnsUw%7ERG7JlrAJLxCHBinSu3XquK0Snby9vyzTH6Fnq3m6g__&Key-Pair-Id=K24J24Z295AEI9: [SYS] unknown error (_ssl.c:2580)\n",
      "Trying to resume download...\n"
     ]
    },
    {
     "data": {
      "application/vnd.jupyter.widget-view+json": {
       "model_id": "0344a4e72650471397cdd9f60ef79d0b",
       "version_major": 2,
       "version_minor": 0
      },
      "text/plain": [
       "model-00002-of-000002.safetensors:  16%|#6        | 1.07G/6.62G [00:00<?, ?B/s]"
      ]
     },
     "metadata": {},
     "output_type": "display_data"
    },
    {
     "name": "stderr",
     "output_type": "stream",
     "text": [
      "Error while downloading from https://cdn-lfs-us-1.hf.co/repos/e4/5a/e45a14e07b22b4350ac8a49a28975e1003fc0cf125bd48861865ec4b58441dcf/1780a9502f56f592cb4d6262c8c76ca8ad36a86b0257e052c672d87f49707e80?response-content-disposition=inline%3B+filename*%3DUTF-8%27%27model-00002-of-000002.safetensors%3B+filename%3D%22model-00002-of-000002.safetensors%22%3B&Expires=1738408074&Policy=eyJTdGF0ZW1lbnQiOlt7IkNvbmRpdGlvbiI6eyJEYXRlTGVzc1RoYW4iOnsiQVdTOkVwb2NoVGltZSI6MTczODQwODA3NH19LCJSZXNvdXJjZSI6Imh0dHBzOi8vY2RuLWxmcy11cy0xLmhmLmNvL3JlcG9zL2U0LzVhL2U0NWExNGUwN2IyMmI0MzUwYWM4YTQ5YTI4OTc1ZTEwMDNmYzBjZjEyNWJkNDg4NjE4NjVlYzRiNTg0NDFkY2YvMTc4MGE5NTAyZjU2ZjU5MmNiNGQ2MjYyYzhjNzZjYThhZDM2YTg2YjAyNTdlMDUyYzY3MmQ4N2Y0OTcwN2U4MD9yZXNwb25zZS1jb250ZW50LWRpc3Bvc2l0aW9uPSoifV19&Signature=M-Z8hrbu%7EaKrn9p0YA39g%7EK%7EN0yX-%7EDZI8ukTm5W1yBvYILfkxU46fHipzjDptUoRYUDxMdYLag2oeNKfgDgYjAkUwlHEhXB2vJzDnzP5E2BhfG7%7E7HqYsMNMmpgng%7EXizByiNJcWlW%7E4Ep1JGbWgy18JHCq%7E1WBwg82suy574gf9N28dPdD4RbUexHrvnJKFfFWXpdQkJDtZQd4Xih0wnaL5YJV3WpmsEV79UhAI5IlMeQvw7x8qdVKlbMkGZ5lji3C0aAJTNVGFnrkbzSx7P-eGK-kxPqO6ZPlyqVbnsUw%7ERG7JlrAJLxCHBinSu3XquK0Snby9vyzTH6Fnq3m6g__&Key-Pair-Id=K24J24Z295AEI9: [SYS] unknown error (_ssl.c:2580)\n",
      "Trying to resume download...\n"
     ]
    },
    {
     "data": {
      "application/vnd.jupyter.widget-view+json": {
       "model_id": "c8cf5294074a4c658fd9ef51f435338e",
       "version_major": 2,
       "version_minor": 0
      },
      "text/plain": [
       "model-00002-of-000002.safetensors:  22%|##1       | 1.44G/6.62G [00:00<?, ?B/s]"
      ]
     },
     "metadata": {},
     "output_type": "display_data"
    }
   ],
   "source": [
    "messages = [\n",
    "    {\"role\": \"user\", \"content\": \"Who are you?\"},\n",
    "]\n",
    "pipe = pipeline(\"text-generation\", model=\"deepseek-ai/DeepSeek-R1-Distill-Qwen-7B\")\n",
    "pipe(messages)"
   ]
  },
  {
   "cell_type": "code",
   "execution_count": null,
   "metadata": {},
   "outputs": [],
   "source": []
  },
  {
   "cell_type": "code",
   "execution_count": null,
   "metadata": {},
   "outputs": [],
   "source": []
  },
  {
   "cell_type": "code",
   "execution_count": null,
   "metadata": {},
   "outputs": [],
   "source": []
  }
 ],
 "metadata": {
  "kernelspec": {
   "display_name": "Foxer_env",
   "language": "python",
   "name": "python3"
  },
  "language_info": {
   "codemirror_mode": {
    "name": "ipython",
    "version": 3
   },
   "file_extension": ".py",
   "mimetype": "text/x-python",
   "name": "python",
   "nbconvert_exporter": "python",
   "pygments_lexer": "ipython3",
   "version": "3.11.11"
  }
 },
 "nbformat": 4,
 "nbformat_minor": 2
}
