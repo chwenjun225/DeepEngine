{
 "cells": [
  {
   "cell_type": "code",
   "execution_count": 1,
   "metadata": {},
   "outputs": [],
   "source": [
    "# Import các thư viện cần thiết\n",
    "import numpy as np \n",
    "import torch \n",
    "from torch.nn import Parameter \n",
    "from torch.nn.modules.module import  Module \n",
    "import torch.nn.functional as F\n",
    "import math \n",
    "from torch import nn "
   ]
  },
  {
   "cell_type": "code",
   "execution_count": 2,
   "metadata": {},
   "outputs": [],
   "source": [
    "# Xây dựng BaseModel \n",
    "class PruningModel(Module):\n",
    "\tdef prune_by_std(self, s=0.25):\n",
    "\t\t\"\"\"\n",
    "\t\t\tCắt tỉa trọng số sử dụng độ lệch chuẩn (std - \n",
    "\t\t\tstandard deviation) được gọi là ngưỡng (threshold)\n",
    "\t\t\"\"\"\n",
    "\t\t# Lưu ý rằng thuật ngữ `module`` ở đây được hiểu là các \n",
    "\t\t# `lớp (layer)`, ví dụ: fc1, fc2, fc3\n",
    "\t\tfor name, module in self.named_modules():\n",
    "\t\t\tif name in ['fc1', 'fc2', 'fc3']:\n",
    "\t\t\t\tthreshold = np.std(module.weight.data.cpu().numpy()) * s\n",
    "\t\t\t\tprint(f\">>> Cắt tỉa với ngưỡng: {threshold} cho layer {name}\")\n",
    "\t\t\t\tmodule.prune(threshold)"
   ]
  },
  {
   "cell_type": "code",
   "execution_count": null,
   "metadata": {},
   "outputs": [],
   "source": [
    "# Xây dựng module cắt tỉa \n",
    "class MaskedLinear(Module):\n",
    "\tdef __init__(self, in_features, out_features, bias=True):\n",
    "\t\tsuper(MaskedLinear, self).__init__()\n",
    "\t\tself.in_features = in_features\n",
    "\t\tself.out_features = out_features\n",
    "\t\tself.weight = Parameter(torch.Tensor(out_features, in_features))\n",
    "\t\t# Khởi tạo ma trận toàn số 1\n",
    "\t\tself.mask = Parameter(\n",
    "\t\t\ttorch.ones([out_features, in_features]), \n",
    "\t\t\trequires_grad=False\n",
    "\t\t)\n",
    "\t\tif bias: \n",
    "\t\t\tself.bias = Parameter(torch.Tensor(out_features))\n",
    "\t\telse:\n",
    "\t\t\tself.register_parameter('bias', None)\n",
    "\t\tself.reset_parameters() \n",
    "\n",
    "\tdef reset_parameters(self):\n",
    "\t\tstdv = 1. / math.sqrt(self.weight.size(1))\n",
    "\t\t# Phân phối đều trọng số mô hình trong khoảng [-stdv, stdv]\n",
    "\t\tself.weight.data.uniform_(-stdv, stdv)\n",
    "\t\tif self.bias is not None:\n",
    "\t\t\tself.bias.data.uniform_(-stdv, stdv)\n",
    "\n",
    "\tdef forward(self, input):\n",
    "\t\treturn F.linear(input, self.weight * self.mask, self.bias)\n",
    "\n",
    "\tdef __repr__(self):\n",
    "\t\treturn self.__class__.__name__ + '(' \\\n",
    "\t\t\t+ 'in_features=' + str(self.in_features) \\\n",
    "\t\t\t+ ', out_features=' + str(self.out_features) \\\n",
    "\t\t\t+ ', bias=' + str(self.bias is not None) + ')'\n",
    "\n",
    "\tdef prune(self, threshold):\n",
    "\t\t\"\"\"Hàm tuỳ chỉnh cắt tỉa (prune) với mặt nạ (mask)\"\"\"\n",
    "\t\tweight_device = self.weight.device\n",
    "\t\tmask_device = self.mask.device \n",
    "\t\t# Đưa tensor từ GPU về CPU và chuyển tensor về mảng numpy\n",
    "\t\ttensor = self.weight.data.cpu().numpy()\n",
    "\t\tmask = self.mask.data.cpu().numpy()\n",
    "\t\t# Sau khi cắt tỉa những weight nào không cần nữa thì sẽ thành số 0\n",
    "\t\tnew_mask = np.where(abs(tensor) < threshold, 0, mask)\n",
    "\t\t# Apply trọng số và mặt nạ mới\n",
    "\t\tself.weight.data = torch.from_numpy(tensor * new_mask).to(weight_device)\n",
    "\t\tself.mask.data = torch.from_numpy(new_mask).to(mask_device)"
   ]
  },
  {
   "cell_type": "code",
   "execution_count": null,
   "metadata": {},
   "outputs": [],
   "source": []
  },
  {
   "cell_type": "code",
   "execution_count": null,
   "metadata": {},
   "outputs": [],
   "source": []
  },
  {
   "cell_type": "code",
   "execution_count": null,
   "metadata": {},
   "outputs": [],
   "source": []
  },
  {
   "cell_type": "code",
   "execution_count": null,
   "metadata": {},
   "outputs": [],
   "source": []
  },
  {
   "cell_type": "code",
   "execution_count": null,
   "metadata": {},
   "outputs": [],
   "source": []
  },
  {
   "cell_type": "code",
   "execution_count": null,
   "metadata": {},
   "outputs": [],
   "source": []
  },
  {
   "cell_type": "code",
   "execution_count": null,
   "metadata": {},
   "outputs": [],
   "source": []
  }
 ],
 "metadata": {
  "kernelspec": {
   "display_name": "foxer_env",
   "language": "python",
   "name": "python3"
  },
  "language_info": {
   "codemirror_mode": {
    "name": "ipython",
    "version": 3
   },
   "file_extension": ".py",
   "mimetype": "text/x-python",
   "name": "python",
   "nbconvert_exporter": "python",
   "pygments_lexer": "ipython3",
   "version": "3.11.11"
  }
 },
 "nbformat": 4,
 "nbformat_minor": 2
}
