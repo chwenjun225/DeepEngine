{
 "cells": [
  {
   "cell_type": "code",
   "execution_count": 1,
   "metadata": {},
   "outputs": [],
   "source": [
    "import uuid\n",
    "import json\n",
    "from pydantic import BaseModel, Field\n",
    "from typing_extensions import Annotated, Sequence\n",
    "\n",
    "\n",
    "\n",
    "from langchain_core.messages import HumanMessage, SystemMessage\n",
    "from langchain_core.tools import tool, BaseTool\n",
    "from langchain_ollama import ChatOllama\n",
    "\n",
    "\n",
    "\n",
    "from langgraph.managed import IsLastStep\n",
    "from langgraph.graph.message import add_messages\n",
    "from langgraph.checkpoint.memory import MemorySaver\n",
    "from langgraph.graph import MessagesState\n",
    "from langgraph.prebuilt import (ToolNode, create_react_agent, tools_condition)\n",
    "\n",
    "\n",
    "\n",
    "from prompts import (TOOL_DESC_PROMPT, REACT_PROMPT, begin_of_text, end_of_text, start_header_id, end_header_id, end_of_message_id, end_of_turn_id)\n",
    "from tools import (tavily_search, random_number_maker, text_to_image, add, subtract, multiply, divide, power, square_root)\n"
   ]
  },
  {
   "cell_type": "code",
   "execution_count": 2,
   "metadata": {},
   "outputs": [],
   "source": [
    "tools = [tavily_search, random_number_maker, text_to_image, add, subtract, multiply, divide, power, square_root]\n",
    "tools_node = ToolNode(tools=tools)\n",
    "\n",
    "\n",
    "\n",
    "class REACT_FORMAT_RESPONSE(BaseModel):\n",
    "\t\"\"\"ReAct Agent with structured response format.\"\"\"\n",
    "\tthought: str = Field(description=\"Logical reasoning before executing an action\")\n",
    "\taction: str = Field(description=f\"The action to be taken, chosen from available tools {', '.join([tool.name for tool in tools])}.\")\n",
    "\taction_input:str = Field(description=\"The required input for the action.\") \n",
    "\tobservation: str = Field(description=\"The outcome of executing the action.\")"
   ]
  },
  {
   "cell_type": "code",
   "execution_count": 3,
   "metadata": {},
   "outputs": [],
   "source": [
    "config = {\"configurable\": {\"thread_id\": str(uuid.uuid4())}}\n",
    "checkpointer = MemorySaver()"
   ]
  },
  {
   "cell_type": "code",
   "execution_count": 4,
   "metadata": {},
   "outputs": [],
   "source": [
    "def build_system_prompt(tool_desc_prompt: str, react_prompt: str, tools: list) -> SystemMessage:\n",
    "\t\"\"\"Builds a formatted system prompt with tool descriptions.\n",
    "\n",
    "\tArgs:\n",
    "\t\ttool_desc_prompt (str): Template for tool descriptions.\n",
    "\t\treact_prompt (str): Template for constructing the final system prompt.\n",
    "\t\ttools (list): List of tool objects.\n",
    "\n",
    "\tReturns:\n",
    "\t\tstr: A fully formatted system prompt with tool descriptions.\n",
    "\t\"\"\"\n",
    "\tlist_tool_desc = [\n",
    "\t\ttool_desc_prompt.format(\n",
    "\t\t\tname_for_model=(tool_info := getattr(tool.args_schema, \"model_json_schema\", lambda: {})()).get(\"title\", \"Unknown Tool\"),\n",
    "\t\t\tname_for_human=tool_info.get(\"title\", \"Unknown Tool\"),\n",
    "\t\t\tdescription_for_model=tool_info.get(\"description\", \"No description available.\"),\n",
    "\t\t\ttype=tool_info.get(\"type\", \"N/A\"),\n",
    "\t\t\tproperties=json.dumps(tool_info.get(\"properties\", {}), ensure_ascii=False),\n",
    "\t\t\trequired=json.dumps(tool_info.get(\"required\", []), ensure_ascii=False),\n",
    "\t\t) + \" Format the arguments as a JSON object.\"\n",
    "\t\tfor tool in tools\n",
    "\t]\n",
    "\treturn SystemMessage(react_prompt.format(\n",
    "\t\tbegin_of_text=begin_of_text, \n",
    "\t\tstart_header_id=start_header_id, \n",
    "\t\tend_header_id=end_header_id, \n",
    "\t\tend_of_turn_id=end_of_turn_id, \n",
    "\t\ttools_desc=\"\\n\\n\".join(list_tool_desc), \n",
    "\t\ttools_name=\", \".join(tool.name for tool in tools),\n",
    "\t))\n",
    "\n",
    "\n",
    "\n",
    "REACT_SYSTEM_MESSAGE_PROMPT = build_system_prompt(tool_desc_prompt=TOOL_DESC_PROMPT, react_prompt=REACT_PROMPT, tools=tools)"
   ]
  },
  {
   "cell_type": "code",
   "execution_count": 5,
   "metadata": {},
   "outputs": [],
   "source": [
    "model = ChatOllama(model=\"llama3.2:1b-instruct-fp16\", temperature=0.1, num_predict=\"2048\")\n",
    "react_agent = create_react_agent(\n",
    "\tname=\"react_agent\", \n",
    "\tmodel=model, \n",
    "    tools=tools, \n",
    "\tresponse_format=REACT_FORMAT_RESPONSE,\n",
    "\tprompt=REACT_SYSTEM_MESSAGE_PROMPT\n",
    ")"
   ]
  },
  {
   "cell_type": "code",
   "execution_count": 6,
   "metadata": {},
   "outputs": [
    {
     "data": {
      "image/png": "[encoded data removed]",
      "text/plain": [
       "<IPython.core.display.Image object>"
      ]
     },
     "metadata": {},
     "output_type": "display_data"
    }
   ],
   "source": [
    "from IPython.display import Image, display\n",
    "display(Image(react_agent.get_graph().draw_mermaid_png()))"
   ]
  },
  {
   "cell_type": "code",
   "execution_count": 7,
   "metadata": {},
   "outputs": [
    {
     "name": "stdout",
     "output_type": "stream",
     "text": [
      "================================\u001b[1m Human Message \u001b[0m=================================\n",
      "\n",
      "What is heavier a kilo of feathers or a pound of steel?\n",
      "==================================\u001b[1m Ai Message \u001b[0m==================================\n",
      "Name: react_agent\n",
      "Tool Calls:\n",
      "  tavily_search (8c563413-627c-47e0-9f2a-063ee42981a0)\n",
      " Call ID: 8c563413-627c-47e0-9f2a-063ee42981a0\n",
      "  Args:\n",
      "    user_prompt: Heavier a kilogram of feathers or a pound of steel?\n",
      "  text_to_image (f49bee3b-7b42-413b-8cdd-951dd56bb5e2)\n",
      " Call ID: f49bee3b-7b42-413b-8cdd-951dd56bb5e2\n",
      "  Args:\n",
      "=================================\u001b[1m Tool Message \u001b[0m=================================\n",
      "Name: text_to_image\n",
      "\n",
      "Error: 1 validation error for text_to_image\n",
      "user_prompt\n",
      "  Field required [type=missing, input_value={}, input_type=dict]\n",
      "    For further information visit https://errors.pydantic.dev/2.10/v/missing\n",
      " Please fix your mistakes.\n",
      "==================================\u001b[1m Ai Message \u001b[0m==================================\n",
      "Name: react_agent\n",
      "Tool Calls:\n",
      "  text_to_image (8e6b9256-d8df-445f-8846-2d64a6065261)\n",
      " Call ID: 8e6b9256-d8df-445f-8846-2d64a6065261\n",
      "  Args:\n",
      "=================================\u001b[1m Tool Message \u001b[0m=================================\n",
      "Name: text_to_image\n",
      "\n",
      "Error: 1 validation error for text_to_image\n",
      "user_prompt\n",
      "  Field required [type=missing, input_value={}, input_type=dict]\n",
      "    For further information visit https://errors.pydantic.dev/2.10/v/missing\n",
      " Please fix your mistakes.\n",
      "==================================\u001b[1m Ai Message \u001b[0m==================================\n",
      "Name: react_agent\n",
      "Tool Calls:\n",
      "  tavily_search (d7bcac7c-8e4e-4202-b6e2-0103b03f3cc9)\n",
      " Call ID: d7bcac7c-8e4e-4202-b6e2-0103b03f3cc9\n",
      "  Args:\n",
      "    user_prompt: Heavier a kilogram of feathers or a pound of steel?\n",
      "=================================\u001b[1m Tool Message \u001b[0m=================================\n",
      "Name: tavily_search\n",
      "\n",
      "Error: 1 validation error for TavilySearchAPIWrapper\n",
      "  Value error, Did not find tavily_api_key, please add an environment variable `TAVILY_API_KEY` which contains it, or pass `tavily_api_key` as a named parameter. [type=value_error, input_value={}, input_type=dict]\n",
      "    For further information visit https://errors.pydantic.dev/2.10/v/value_error\n",
      " Please fix your mistakes.\n",
      "==================================\u001b[1m Ai Message \u001b[0m==================================\n",
      "Name: react_agent\n",
      "\n",
      "<|python_tag|>import os\n",
      "from tavily_search import TavilySearchAPIWrapper\n",
      "\n",
      "def heavier_tool():\n",
      "    api = TavilySearchAPIWrapper(os.environ.get('TAVILY_API_KEY'))\n",
      "    response = api.query(\"Heavier a kilogram of feathers or a pound of steel?\")\n",
      "    return response.json()\n",
      "\n",
      "print(heavier_tool())\n",
      "==================================\u001b[1m Ai Message \u001b[0m==================================\n",
      "Name: react_agent\n",
      "\n",
      "<|python_tag|>import os\n",
      "from tavily_search import TavilySearchAPIWrapper\n",
      "\n",
      "def heavier_tool():\n",
      "    api = TavilySearchAPIWrapper(os.environ.get('TAVILY_API_KEY'))\n",
      "    response = api.query(\"Heavier a kilogram of feathers or a pound of steel?\")\n",
      "    return response.json()\n",
      "\n",
      "print(heavier_tool())\n"
     ]
    }
   ],
   "source": [
    "from langchain_core.messages import HumanMessage, SystemMessage\n",
    "\n",
    "inputs = {\"messages\": [\n",
    "\tHumanMessage(\"What is heavier a kilo of feathers or a pound of steel?\")\n",
    "]}\n",
    "for s in react_agent.stream(inputs, stream_mode=\"values\"):\n",
    "\tmessage = s[\"messages\"][-1]\n",
    "\tif isinstance(message, tuple):\n",
    "\t\tprint(message)\n",
    "\telse:\n",
    "\t\tmessage.pretty_print()"
   ]
  },
  {
   "cell_type": "code",
   "execution_count": 17,
   "metadata": {},
   "outputs": [
    {
     "data": {
      "text/plain": [
       "SystemMessage(content='<|begin_of_text|>\\n<|start_header_id|>system<|end_header_id|>\\nYou are an AI assistant that follows the ReAct reasoning framework. \\nYou have access to the following APIs:\\n\\ntavily_search: Call this tool to interact with the tavily_search API. \\nWhat is the tavily_search API useful for? \\nPerform a web search using the Tavily API and return the top results..\\nType: object.\\nProperties: {\"user_prompt\": {\"description\": \"The search query entered by the user.\", \"title\": \"User Prompt\", \"type\": \"string\"}}.\\nRequired: [\"user_prompt\"]. Format the arguments as a JSON object.\\n\\nrandom_number_maker: Call this tool to interact with the random_number_maker API. \\nWhat is the random_number_maker API useful for? \\nGenerates a random number between 0 and 100..\\nType: object.\\nProperties: {\"user_prompt\": {\"anyOf\": [{\"type\": \"string\"}, {\"type\": \"null\"}], \"description\": \"The input prompt from the user (not used in this function).\", \"title\": \"User Prompt\"}}.\\nRequired: [\"user_prompt\"]. Format the arguments as a JSON object.\\n\\ntext_to_image: Call this tool to interact with the text_to_image API. \\nWhat is the text_to_image API useful for? \\nGenerates an image based on a text description..\\nType: object.\\nProperties: {\"user_prompt\": {\"description\": \"The text prompt describing the desired image.\", \"title\": \"User Prompt\", \"type\": \"string\"}}.\\nRequired: [\"user_prompt\"]. Format the arguments as a JSON object.\\n\\nadd: Call this tool to interact with the add API. \\nWhat is the add API useful for? \\nReturns the sum of two numbers..\\nType: object.\\nProperties: {\"a\": {\"description\": \"The first number.\", \"title\": \"A\", \"type\": \"number\"}, \"b\": {\"description\": \"The second number.\", \"title\": \"B\", \"type\": \"number\"}}.\\nRequired: [\"a\", \"b\"]. Format the arguments as a JSON object.\\n\\nsubtract: Call this tool to interact with the subtract API. \\nWhat is the subtract API useful for? \\nReturns the difference of two numbers..\\nType: object.\\nProperties: {\"a\": {\"description\": \"The first number.\", \"title\": \"A\", \"type\": \"number\"}, \"b\": {\"description\": \"The second number.\", \"title\": \"B\", \"type\": \"number\"}}.\\nRequired: [\"a\", \"b\"]. Format the arguments as a JSON object.\\n\\nmultiply: Call this tool to interact with the multiply API. \\nWhat is the multiply API useful for? \\nReturns the product of two numbers..\\nType: object.\\nProperties: {\"a\": {\"description\": \"The first number.\", \"title\": \"A\", \"type\": \"number\"}, \"b\": {\"description\": \"The second number.\", \"title\": \"B\", \"type\": \"number\"}}.\\nRequired: [\"a\", \"b\"]. Format the arguments as a JSON object.\\n\\ndivide: Call this tool to interact with the divide API. \\nWhat is the divide API useful for? \\nReturns the quotient of two numbers..\\nType: object.\\nProperties: {\"a\": {\"description\": \"The dividend.\", \"title\": \"A\", \"type\": \"number\"}, \"b\": {\"description\": \"The divisor.\", \"title\": \"B\", \"type\": \"number\"}}.\\nRequired: [\"a\", \"b\"]. Format the arguments as a JSON object.\\n\\npower: Call this tool to interact with the power API. \\nWhat is the power API useful for? \\nReturns the result of raising `a` to the power of `b`..\\nType: object.\\nProperties: {\"a\": {\"description\": \"The base number.\", \"title\": \"A\", \"type\": \"number\"}, \"b\": {\"description\": \"The exponent.\", \"title\": \"B\", \"type\": \"number\"}}.\\nRequired: [\"a\", \"b\"]. Format the arguments as a JSON object.\\n\\nsquare_root: Call this tool to interact with the square_root API. \\nWhat is the square_root API useful for? \\nReturns the square root of a number..\\nType: object.\\nProperties: {\"a\": {\"description\": \"The number to find the square root of.\", \"title\": \"A\", \"type\": \"number\"}}.\\nRequired: [\"a\"]. Format the arguments as a JSON object.\\n\\nUse the following strict format:\\n\\n### Input Format:\\n\\nuser_query: The original query provided by the user.\\nthought: Logical reasoning before executing an action.\\naction: The action to be taken, chosen from available tools: tavily_search, random_number_maker, text_to_image, add, subtract, multiply, divide, power, square_root.\\naction_input: The required input for the action.\\nobservation: The outcome of executing the action. \\n...(Repeat the thought/action/observation loop as needed)\\nfinal_thought: I now know the final answer.\\nfinal_answer: Provide the final answer.\\n\\nBegin!<|eot_id|>\\n', additional_kwargs={}, response_metadata={})"
      ]
     },
     "execution_count": 17,
     "metadata": {},
     "output_type": "execute_result"
    }
   ],
   "source": [
    "REACT_SYSTEM_MESSAGE_PROMPT"
   ]
  },
  {
   "cell_type": "code",
   "execution_count": null,
   "metadata": {},
   "outputs": [],
   "source": []
  },
  {
   "cell_type": "code",
   "execution_count": null,
   "metadata": {},
   "outputs": [],
   "source": []
  },
  {
   "cell_type": "code",
   "execution_count": null,
   "metadata": {},
   "outputs": [],
   "source": []
  },
  {
   "cell_type": "code",
   "execution_count": null,
   "metadata": {},
   "outputs": [],
   "source": []
  },
  {
   "cell_type": "code",
   "execution_count": null,
   "metadata": {},
   "outputs": [],
   "source": []
  },
  {
   "cell_type": "code",
   "execution_count": null,
   "metadata": {},
   "outputs": [],
   "source": []
  },
  {
   "cell_type": "code",
   "execution_count": null,
   "metadata": {},
   "outputs": [],
   "source": []
  },
  {
   "cell_type": "code",
   "execution_count": null,
   "metadata": {},
   "outputs": [],
   "source": []
  },
  {
   "cell_type": "code",
   "execution_count": 9,
   "metadata": {},
   "outputs": [],
   "source": [
    "prompt = [HumanMessage(\"What is the capital of France?\")]"
   ]
  },
  {
   "cell_type": "code",
   "execution_count": 10,
   "metadata": {},
   "outputs": [
    {
     "data": {
      "text/plain": [
       "AIMessage(content='The capital of France is Paris.', additional_kwargs={}, response_metadata={'model': 'llama3.2:1b-instruct-fp16', 'created_at': '2025-03-05T08:37:28.359029787Z', 'done': True, 'done_reason': 'stop', 'total_duration': 52398531, 'load_duration': 8715362, 'prompt_eval_count': 32, 'prompt_eval_duration': 10000000, 'eval_count': 8, 'eval_duration': 32000000, 'message': Message(role='assistant', content='', images=None, tool_calls=None)}, id='run-c1c64677-b708-4e86-984a-301ef995b11a-0', usage_metadata={'input_tokens': 32, 'output_tokens': 8, 'total_tokens': 40})"
      ]
     },
     "execution_count": 10,
     "metadata": {},
     "output_type": "execute_result"
    }
   ],
   "source": [
    "model.invoke(prompt)"
   ]
  },
  {
   "cell_type": "code",
   "execution_count": 11,
   "metadata": {},
   "outputs": [
    {
     "data": {
      "text/plain": [
       "AIMessage(content='The capital of France is Paris!!!', additional_kwargs={}, response_metadata={'model': 'llama3.2:1b-instruct-fp16', 'created_at': '2025-03-05T08:37:28.412770623Z', 'done': True, 'done_reason': 'stop', 'total_duration': 48790310, 'load_duration': 8849504, 'prompt_eval_count': 47, 'prompt_eval_duration': 7000000, 'eval_count': 8, 'eval_duration': 31000000, 'message': Message(role='assistant', content='', images=None, tool_calls=None)}, id='run-5ea72e17-45ad-46ab-94e0-c8c1ff783bdf-0', usage_metadata={'input_tokens': 47, 'output_tokens': 8, 'total_tokens': 55})"
      ]
     },
     "execution_count": 11,
     "metadata": {},
     "output_type": "execute_result"
    }
   ],
   "source": [
    "system_msg = SystemMessage(\"\"\"You are a helpful assistant that responds to questions with three exclamation marks.\"\"\")\n",
    "human_msg = HumanMessage('What is the capital of France?')\n",
    "model.invoke([system_msg, human_msg])"
   ]
  },
  {
   "cell_type": "code",
   "execution_count": 12,
   "metadata": {},
   "outputs": [
    {
     "data": {
      "text/plain": [
       "StringPromptValue(text='Answer the question based on the context below. If the question cannot be answered using the information provided, answer with \"I don\\'t know\".\\n\\nContext: The most recent advancements in NLP are being driven by Large Language Models (LLMs). These models outperform their smaller counterparts and have become invaluable for developers who are creating applications with NLP capabilities. Developers can tap into these models through Hugging Face\\'s `transformers` library, or by utilizing OpenAI and Cohere\\'s offerings through the `openai` and `cohere` libraries, respectively.\\n\\nQuestion: Which model providers offer LLMs?\\n\\nAnswer: ')"
      ]
     },
     "execution_count": 12,
     "metadata": {},
     "output_type": "execute_result"
    }
   ],
   "source": [
    "from langchain_core.prompts import PromptTemplate\n",
    "template = PromptTemplate.from_template(\"\"\"Answer the question based on the context below. If the question cannot be answered using the information provided, answer with \"I don't know\".\n",
    "\n",
    "Context: {context}\n",
    "\n",
    "Question: {question}\n",
    "\n",
    "Answer: \"\"\")\n",
    "\n",
    "template.invoke({\"context\": \"\"\"The most recent advancements in NLP are being driven by Large Language Models (LLMs). These models outperform their smaller counterparts and have become invaluable for developers who are creating applications with NLP capabilities. Developers can tap into these models through Hugging Face's `transformers` library, or by utilizing OpenAI and Cohere's offerings through the `openai` and `cohere` libraries, respectively.\"\"\",\n",
    "\t\"question\": \"Which model providers offer LLMs?\"\n",
    "})"
   ]
  },
  {
   "cell_type": "code",
   "execution_count": 13,
   "metadata": {},
   "outputs": [],
   "source": [
    "completion = model.invoke(prompt)"
   ]
  },
  {
   "cell_type": "code",
   "execution_count": 14,
   "metadata": {},
   "outputs": [],
   "source": [
    "from pydantic import BaseModel\n",
    "class AnswerWithJustification(BaseModel):\n",
    "\t'''An answer to the user's question along with justification for the answer.'''\n",
    "\tanswer: str\n",
    "\t'''The answer to the user's question'''\n",
    "\tjustification: str\n",
    "\t'''Justification for the answer'''"
   ]
  },
  {
   "cell_type": "code",
   "execution_count": 15,
   "metadata": {},
   "outputs": [
    {
     "data": {
      "text/plain": [
       "RunnableBinding(bound=ChatOllama(model='llama3.2:1b-instruct-fp16', num_predict=2048, temperature=0.1), kwargs={'tools': [{'type': 'function', 'function': {'name': 'AnswerWithJustification', 'description': \"An answer to the user's question along with justification for the answer.\", 'parameters': {'properties': {'answer': {'type': 'string'}, 'justification': {'type': 'string'}}, 'required': ['answer', 'justification'], 'type': 'object'}}}], 'structured_output_format': {'kwargs': {'method': 'function_calling'}, 'schema': {'type': 'function', 'function': {'name': 'AnswerWithJustification', 'description': \"An answer to the user's question along with justification for the answer.\", 'parameters': {'properties': {'answer': {'type': 'string'}, 'justification': {'type': 'string'}}, 'required': ['answer', 'justification'], 'type': 'object'}}}}}, config={}, config_factories=[])\n",
       "| PydanticToolsParser(first_tool_only=True, tools=[<class '__main__.AnswerWithJustification'>])"
      ]
     },
     "execution_count": 15,
     "metadata": {},
     "output_type": "execute_result"
    }
   ],
   "source": [
    "structured_llm = model.with_structured_output(AnswerWithJustification)\n",
    "structured_llm"
   ]
  },
  {
   "cell_type": "code",
   "execution_count": 16,
   "metadata": {},
   "outputs": [
    {
     "data": {
      "text/plain": [
       "AnswerWithJustification(answer='Both weigh the same', justification='The weight of an object is determined by its mass, not its composition. The density of both bricks and feathers varies, but their masses are equal.')"
      ]
     },
     "execution_count": 16,
     "metadata": {},
     "output_type": "execute_result"
    }
   ],
   "source": [
    "structured_llm.invoke(\"What weighs more, a pound of bricks or a pound of feathers\")"
   ]
  },
  {
   "cell_type": "code",
   "execution_count": null,
   "metadata": {},
   "outputs": [],
   "source": []
  },
  {
   "cell_type": "code",
   "execution_count": null,
   "metadata": {},
   "outputs": [],
   "source": []
  },
  {
   "cell_type": "code",
   "execution_count": null,
   "metadata": {},
   "outputs": [],
   "source": []
  },
  {
   "cell_type": "code",
   "execution_count": null,
   "metadata": {},
   "outputs": [],
   "source": []
  }
 ],
 "metadata": {
  "kernelspec": {
   "display_name": "research",
   "language": "python",
   "name": "python3"
  },
  "language_info": {
   "codemirror_mode": {
    "name": "ipython",
    "version": 3
   },
   "file_extension": ".py",
   "mimetype": "text/x-python",
   "name": "python",
   "nbconvert_exporter": "python",
   "pygments_lexer": "ipython3",
   "version": "3.11.11"
  }
 },
 "nbformat": 4,
 "nbformat_minor": 2
}
